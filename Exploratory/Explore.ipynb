{
 "cells": [
  {
   "cell_type": "markdown",
   "metadata": {
    "deletable": false,
    "editable": false,
    "nbgrader": {
     "cell_type": "markdown",
     "checksum": "5017bc807a74032c3485d06e37fb2b22",
     "grade": false,
     "grade_id": "cell-8ffd98ff51da8dd5",
     "locked": true,
     "schema_version": 3,
     "solution": false,
     "task": false
    }
   },
   "source": [
    "# Part III: Explore\n",
    "\n",
    "![alt text](data/inu_neko_logo_small.png \"Inu + Neko\")\n",
    "\n",
    "Hello! We are Inu + Neku and we are a Dog & Cat services and supplies store located in New York City. We just started our e-commerce business and need your help analyzing our data!"
   ]
  },
  {
   "cell_type": "markdown",
   "metadata": {
    "deletable": false,
    "editable": false,
    "nbgrader": {
     "cell_type": "markdown",
     "checksum": "b7d79e28b99e73c12c777a31721b638a",
     "grade": false,
     "grade_id": "cell-843890ae04b6d8b8",
     "locked": true,
     "schema_version": 3,
     "solution": false,
     "task": false
    }
   },
   "source": [
    "## Description\n",
    "\n",
    "We need to make sure the data is clean before starting your analysis. As a reminder, we should check for:\n",
    "\n",
    "- Duplicate records\n",
    "- Consistent formatting\n",
    "- Missing values\n",
    "- Obviously wrong values\n",
    "\n",
    "> **NOTE:** You can check if your answer is at least close to the correct/expected answer with the check functions (`q1_check()`, `q2_check()`, ...). These functions will check your answer and give you some feedback. However, your answer might be _incorrect_ even if the check functions says you're \"close\" to the expected answer."
   ]
  },
  {
   "cell_type": "code",
   "execution_count": 1,
   "metadata": {
    "deletable": false,
    "editable": false,
    "nbgrader": {
     "cell_type": "code",
     "checksum": "d16cb700998d92f0d9884047d3652f3b",
     "grade": false,
     "grade_id": "cell-beb161b036c44177",
     "locked": true,
     "schema_version": 3,
     "solution": false,
     "task": false
    }
   },
   "outputs": [],
   "source": [
    "import pandas as pd\n",
    "import numpy as np\n",
    "\n",
    "\n",
    "from checker.binder import binder; binder.bind(globals())\n",
    "from intro_data_analytics.check_practice_explore import *"
   ]
  },
  {
   "cell_type": "code",
   "execution_count": 2,
   "metadata": {
    "deletable": false,
    "editable": false,
    "nbgrader": {
     "cell_type": "code",
     "checksum": "6cea42d8305a102ac6bd31d89f9c55be",
     "grade": false,
     "grade_id": "cell-1316036195ef2947",
     "locked": true,
     "schema_version": 3,
     "solution": false,
     "task": false
    }
   },
   "outputs": [
    {
     "data": {
      "text/html": [
       "<div>\n",
       "<style scoped>\n",
       "    .dataframe tbody tr th:only-of-type {\n",
       "        vertical-align: middle;\n",
       "    }\n",
       "\n",
       "    .dataframe tbody tr th {\n",
       "        vertical-align: top;\n",
       "    }\n",
       "\n",
       "    .dataframe thead th {\n",
       "        text-align: right;\n",
       "    }\n",
       "</style>\n",
       "<table border=\"1\" class=\"dataframe\">\n",
       "  <thead>\n",
       "    <tr style=\"text-align: right;\">\n",
       "      <th></th>\n",
       "      <th>trans_id</th>\n",
       "      <th>prod_upc</th>\n",
       "      <th>cust_id</th>\n",
       "      <th>trans_timestamp</th>\n",
       "      <th>trans_year</th>\n",
       "      <th>trans_month</th>\n",
       "      <th>trans_day</th>\n",
       "      <th>trans_hour</th>\n",
       "      <th>trans_quantity</th>\n",
       "      <th>cust_age</th>\n",
       "      <th>cust_state</th>\n",
       "      <th>prod_price</th>\n",
       "      <th>prod_title</th>\n",
       "      <th>prod_category</th>\n",
       "      <th>prod_animal_type</th>\n",
       "      <th>total_sales</th>\n",
       "    </tr>\n",
       "  </thead>\n",
       "  <tbody>\n",
       "    <tr>\n",
       "      <th>0</th>\n",
       "      <td>10311803</td>\n",
       "      <td>704772572943</td>\n",
       "      <td>1010865</td>\n",
       "      <td>2021-05-04 14:20:00.426577</td>\n",
       "      <td>2021</td>\n",
       "      <td>5</td>\n",
       "      <td>4</td>\n",
       "      <td>4</td>\n",
       "      <td>1</td>\n",
       "      <td>21</td>\n",
       "      <td>Pennsylvania</td>\n",
       "      <td>35.98</td>\n",
       "      <td>Scratchy Post</td>\n",
       "      <td>toy</td>\n",
       "      <td>cat</td>\n",
       "      <td>35.98</td>\n",
       "    </tr>\n",
       "    <tr>\n",
       "      <th>1</th>\n",
       "      <td>10300426</td>\n",
       "      <td>441530839394</td>\n",
       "      <td>1001150</td>\n",
       "      <td>2021-01-19 10:03:15.598881</td>\n",
       "      <td>2021</td>\n",
       "      <td>1</td>\n",
       "      <td>19</td>\n",
       "      <td>19</td>\n",
       "      <td>2</td>\n",
       "      <td>21</td>\n",
       "      <td>Oregon</td>\n",
       "      <td>28.45</td>\n",
       "      <td>Ball and String</td>\n",
       "      <td>toy</td>\n",
       "      <td>cat</td>\n",
       "      <td>56.90</td>\n",
       "    </tr>\n",
       "    <tr>\n",
       "      <th>2</th>\n",
       "      <td>10311471</td>\n",
       "      <td>969568933713</td>\n",
       "      <td>1010603</td>\n",
       "      <td>2021-05-02 09:41:06.068295</td>\n",
       "      <td>2021</td>\n",
       "      <td>5</td>\n",
       "      <td>2</td>\n",
       "      <td>2</td>\n",
       "      <td>1</td>\n",
       "      <td>44</td>\n",
       "      <td>Texas</td>\n",
       "      <td>32.99</td>\n",
       "      <td>Foozy Mouse</td>\n",
       "      <td>toy</td>\n",
       "      <td>cat</td>\n",
       "      <td>32.99</td>\n",
       "    </tr>\n",
       "    <tr>\n",
       "      <th>3</th>\n",
       "      <td>10306506</td>\n",
       "      <td>100469015054</td>\n",
       "      <td>1006616</td>\n",
       "      <td>2021-04-03 08:22:05.599849</td>\n",
       "      <td>2021</td>\n",
       "      <td>4</td>\n",
       "      <td>3</td>\n",
       "      <td>3</td>\n",
       "      <td>2</td>\n",
       "      <td>25</td>\n",
       "      <td>New Jersey</td>\n",
       "      <td>18.95</td>\n",
       "      <td>Tuna Tasties</td>\n",
       "      <td>treat</td>\n",
       "      <td>cat</td>\n",
       "      <td>37.90</td>\n",
       "    </tr>\n",
       "    <tr>\n",
       "      <th>4</th>\n",
       "      <td>10308646</td>\n",
       "      <td>521244155990</td>\n",
       "      <td>1008375</td>\n",
       "      <td>2021-04-17 09:44:51.009960</td>\n",
       "      <td>2021</td>\n",
       "      <td>4</td>\n",
       "      <td>17</td>\n",
       "      <td>17</td>\n",
       "      <td>1</td>\n",
       "      <td>30</td>\n",
       "      <td>New Jersey</td>\n",
       "      <td>54.95</td>\n",
       "      <td>Reddy Beddy</td>\n",
       "      <td>bedding</td>\n",
       "      <td>dog</td>\n",
       "      <td>54.95</td>\n",
       "    </tr>\n",
       "    <tr>\n",
       "      <th>...</th>\n",
       "      <td>...</td>\n",
       "      <td>...</td>\n",
       "      <td>...</td>\n",
       "      <td>...</td>\n",
       "      <td>...</td>\n",
       "      <td>...</td>\n",
       "      <td>...</td>\n",
       "      <td>...</td>\n",
       "      <td>...</td>\n",
       "      <td>...</td>\n",
       "      <td>...</td>\n",
       "      <td>...</td>\n",
       "      <td>...</td>\n",
       "      <td>...</td>\n",
       "      <td>...</td>\n",
       "      <td>...</td>\n",
       "    </tr>\n",
       "    <tr>\n",
       "      <th>23751</th>\n",
       "      <td>10305783</td>\n",
       "      <td>832878954342</td>\n",
       "      <td>1006011</td>\n",
       "      <td>2021-03-29 10:48:52.680900</td>\n",
       "      <td>2021</td>\n",
       "      <td>3</td>\n",
       "      <td>29</td>\n",
       "      <td>29</td>\n",
       "      <td>1</td>\n",
       "      <td>40</td>\n",
       "      <td>New York</td>\n",
       "      <td>45.99</td>\n",
       "      <td>Snoozer Hammock</td>\n",
       "      <td>bedding</td>\n",
       "      <td>cat</td>\n",
       "      <td>45.99</td>\n",
       "    </tr>\n",
       "    <tr>\n",
       "      <th>23752</th>\n",
       "      <td>10317151</td>\n",
       "      <td>441530839394</td>\n",
       "      <td>1014854</td>\n",
       "      <td>2021-05-27 12:15:18.931957</td>\n",
       "      <td>2021</td>\n",
       "      <td>5</td>\n",
       "      <td>27</td>\n",
       "      <td>27</td>\n",
       "      <td>1</td>\n",
       "      <td>21</td>\n",
       "      <td>New Mexico</td>\n",
       "      <td>28.45</td>\n",
       "      <td>Ball and String</td>\n",
       "      <td>toy</td>\n",
       "      <td>cat</td>\n",
       "      <td>28.45</td>\n",
       "    </tr>\n",
       "    <tr>\n",
       "      <th>23753</th>\n",
       "      <td>10302720</td>\n",
       "      <td>733426809698</td>\n",
       "      <td>1003380</td>\n",
       "      <td>2021-02-28 10:13:34.969109</td>\n",
       "      <td>2021</td>\n",
       "      <td>2</td>\n",
       "      <td>28</td>\n",
       "      <td>28</td>\n",
       "      <td>1</td>\n",
       "      <td>26</td>\n",
       "      <td>Michigan</td>\n",
       "      <td>18.95</td>\n",
       "      <td>Yum Fish-Dish</td>\n",
       "      <td>food</td>\n",
       "      <td>cat</td>\n",
       "      <td>18.95</td>\n",
       "    </tr>\n",
       "    <tr>\n",
       "      <th>23754</th>\n",
       "      <td>10314978</td>\n",
       "      <td>733426809698</td>\n",
       "      <td>1013297</td>\n",
       "      <td>2021-05-18 10:51:44.007914</td>\n",
       "      <td>2021</td>\n",
       "      <td>5</td>\n",
       "      <td>18</td>\n",
       "      <td>18</td>\n",
       "      <td>1</td>\n",
       "      <td>29</td>\n",
       "      <td>Pennsylvania</td>\n",
       "      <td>18.95</td>\n",
       "      <td>Yum Fish-Dish</td>\n",
       "      <td>food</td>\n",
       "      <td>cat</td>\n",
       "      <td>18.95</td>\n",
       "    </tr>\n",
       "    <tr>\n",
       "      <th>23755</th>\n",
       "      <td>10316727</td>\n",
       "      <td>469757173540</td>\n",
       "      <td>1014548</td>\n",
       "      <td>2021-05-25 11:54:05.656762</td>\n",
       "      <td>2021</td>\n",
       "      <td>5</td>\n",
       "      <td>25</td>\n",
       "      <td>25</td>\n",
       "      <td>4</td>\n",
       "      <td>31</td>\n",
       "      <td>Nevada</td>\n",
       "      <td>35.99</td>\n",
       "      <td>Kitty Climber</td>\n",
       "      <td>toy</td>\n",
       "      <td>cat</td>\n",
       "      <td>143.96</td>\n",
       "    </tr>\n",
       "  </tbody>\n",
       "</table>\n",
       "<p>23756 rows × 16 columns</p>\n",
       "</div>"
      ],
      "text/plain": [
       "       trans_id      prod_upc  cust_id             trans_timestamp  \\\n",
       "0      10311803  704772572943  1010865  2021-05-04 14:20:00.426577   \n",
       "1      10300426  441530839394  1001150  2021-01-19 10:03:15.598881   \n",
       "2      10311471  969568933713  1010603  2021-05-02 09:41:06.068295   \n",
       "3      10306506  100469015054  1006616  2021-04-03 08:22:05.599849   \n",
       "4      10308646  521244155990  1008375  2021-04-17 09:44:51.009960   \n",
       "...         ...           ...      ...                         ...   \n",
       "23751  10305783  832878954342  1006011  2021-03-29 10:48:52.680900   \n",
       "23752  10317151  441530839394  1014854  2021-05-27 12:15:18.931957   \n",
       "23753  10302720  733426809698  1003380  2021-02-28 10:13:34.969109   \n",
       "23754  10314978  733426809698  1013297  2021-05-18 10:51:44.007914   \n",
       "23755  10316727  469757173540  1014548  2021-05-25 11:54:05.656762   \n",
       "\n",
       "       trans_year  trans_month  trans_day  trans_hour  trans_quantity  \\\n",
       "0            2021            5          4           4               1   \n",
       "1            2021            1         19          19               2   \n",
       "2            2021            5          2           2               1   \n",
       "3            2021            4          3           3               2   \n",
       "4            2021            4         17          17               1   \n",
       "...           ...          ...        ...         ...             ...   \n",
       "23751        2021            3         29          29               1   \n",
       "23752        2021            5         27          27               1   \n",
       "23753        2021            2         28          28               1   \n",
       "23754        2021            5         18          18               1   \n",
       "23755        2021            5         25          25               4   \n",
       "\n",
       "       cust_age    cust_state  prod_price       prod_title prod_category  \\\n",
       "0            21  Pennsylvania       35.98    Scratchy Post           toy   \n",
       "1            21        Oregon       28.45  Ball and String           toy   \n",
       "2            44         Texas       32.99      Foozy Mouse           toy   \n",
       "3            25    New Jersey       18.95     Tuna Tasties         treat   \n",
       "4            30    New Jersey       54.95      Reddy Beddy       bedding   \n",
       "...         ...           ...         ...              ...           ...   \n",
       "23751        40      New York       45.99  Snoozer Hammock       bedding   \n",
       "23752        21    New Mexico       28.45  Ball and String           toy   \n",
       "23753        26      Michigan       18.95    Yum Fish-Dish          food   \n",
       "23754        29  Pennsylvania       18.95    Yum Fish-Dish          food   \n",
       "23755        31        Nevada       35.99    Kitty Climber           toy   \n",
       "\n",
       "      prod_animal_type  total_sales  \n",
       "0                  cat        35.98  \n",
       "1                  cat        56.90  \n",
       "2                  cat        32.99  \n",
       "3                  cat        37.90  \n",
       "4                  dog        54.95  \n",
       "...                ...          ...  \n",
       "23751              cat        45.99  \n",
       "23752              cat        28.45  \n",
       "23753              cat        18.95  \n",
       "23754              cat        18.95  \n",
       "23755              cat       143.96  \n",
       "\n",
       "[23756 rows x 16 columns]"
      ]
     },
     "execution_count": 2,
     "metadata": {},
     "output_type": "execute_result"
    }
   ],
   "source": [
    "df_cleaned = pd.read_csv('data/inu_neko_orderline_cleaned.csv')\n",
    "df_cleaned"
   ]
  },
  {
   "cell_type": "code",
   "execution_count": 3,
   "metadata": {
    "deletable": false,
    "editable": false,
    "nbgrader": {
     "cell_type": "code",
     "checksum": "8e1377c8abf545c005cd78319345cb60",
     "grade": false,
     "grade_id": "cell-1f7c217b9f5dc484",
     "locked": true,
     "schema_version": 3,
     "solution": false,
     "task": false
    }
   },
   "outputs": [
    {
     "name": "stdout",
     "output_type": "stream",
     "text": [
      "<class 'pandas.core.frame.DataFrame'>\n",
      "RangeIndex: 23756 entries, 0 to 23755\n",
      "Data columns (total 16 columns):\n",
      " #   Column            Non-Null Count  Dtype  \n",
      "---  ------            --------------  -----  \n",
      " 0   trans_id          23756 non-null  int64  \n",
      " 1   prod_upc          23756 non-null  int64  \n",
      " 2   cust_id           23756 non-null  int64  \n",
      " 3   trans_timestamp   23756 non-null  object \n",
      " 4   trans_year        23756 non-null  int64  \n",
      " 5   trans_month       23756 non-null  int64  \n",
      " 6   trans_day         23756 non-null  int64  \n",
      " 7   trans_hour        23756 non-null  int64  \n",
      " 8   trans_quantity    23756 non-null  int64  \n",
      " 9   cust_age          23756 non-null  int64  \n",
      " 10  cust_state        23756 non-null  object \n",
      " 11  prod_price        23756 non-null  float64\n",
      " 12  prod_title        23756 non-null  object \n",
      " 13  prod_category     23756 non-null  object \n",
      " 14  prod_animal_type  23756 non-null  object \n",
      " 15  total_sales       23756 non-null  float64\n",
      "dtypes: float64(2), int64(9), object(5)\n",
      "memory usage: 2.9+ MB\n"
     ]
    }
   ],
   "source": [
    "df_cleaned.info()"
   ]
  },
  {
   "cell_type": "markdown",
   "metadata": {
    "deletable": false,
    "editable": false,
    "nbgrader": {
     "cell_type": "markdown",
     "checksum": "1aac8941682150799dafa2841164e72a",
     "grade": false,
     "grade_id": "cell-5b21e0995de9f072",
     "locked": true,
     "schema_version": 3,
     "solution": false,
     "task": false
    }
   },
   "source": [
    "#### Question 1: Number of Orders\n",
    "\n",
    "How many transactions are there?"
   ]
  },
  {
   "cell_type": "code",
   "execution_count": 4,
   "metadata": {
    "deletable": false,
    "nbgrader": {
     "cell_type": "code",
     "checksum": "1e49d3c5cac3d037448048d7c6db0253",
     "grade": false,
     "grade_id": "cell-976c898e7f2b44c4",
     "locked": false,
     "schema_version": 3,
     "solution": true,
     "task": false
    }
   },
   "outputs": [
    {
     "data": {
      "text/plain": [
       "17416"
      ]
     },
     "execution_count": 4,
     "metadata": {},
     "output_type": "execute_result"
    }
   ],
   "source": [
    "# your code here\n",
    "\n",
    "num_trans = df_cleaned.trans_id.nunique()\n",
    "num_trans"
   ]
  },
  {
   "cell_type": "code",
   "execution_count": 5,
   "metadata": {
    "deletable": false,
    "editable": false,
    "nbgrader": {
     "cell_type": "code",
     "checksum": "2bb1ddbba2425359aef42c01f99802d6",
     "grade": true,
     "grade_id": "cell-25ca64f53b142f34",
     "locked": true,
     "points": 4,
     "schema_version": 3,
     "solution": false,
     "task": false
    }
   },
   "outputs": [
    {
     "name": "stdout",
     "output_type": "stream",
     "text": [
      "\u001b[92mYour answer `17416` for the `num_trans` variable looks about right!\n",
      "Note that doesn't mean it's correct though, just that your answer is at least **close** to the correct answer. It's possible your answer isn't correct, although it's close! \u001b[0m\n"
     ]
    }
   ],
   "source": [
    "# Q1 Test Cases\n",
    "check_q1()\n"
   ]
  },
  {
   "cell_type": "markdown",
   "metadata": {
    "deletable": false,
    "editable": false,
    "nbgrader": {
     "cell_type": "markdown",
     "checksum": "dbbcb9e840f3b9c342c881a835e5f0c1",
     "grade": false,
     "grade_id": "cell-0a31f9747863940e",
     "locked": true,
     "schema_version": 3,
     "solution": false,
     "task": false
    }
   },
   "source": [
    "#### Question 2: Alpha and Omega I\n",
    "What was the month and day of the first sale? Store as a tuple in that order and assign the tuple to the variable `first_date`."
   ]
  },
  {
   "cell_type": "code",
   "execution_count": 6,
   "metadata": {
    "deletable": false,
    "nbgrader": {
     "cell_type": "code",
     "checksum": "8a71800126e46e93b74701632148768f",
     "grade": false,
     "grade_id": "cell-bd2b89a8035a9ab8",
     "locked": false,
     "schema_version": 3,
     "solution": true,
     "task": false
    }
   },
   "outputs": [],
   "source": [
    "# your code here\n",
    "import datetime as dt\n",
    "df_cleaned[\"trans_timestamp\"] = pd.to_datetime(df_cleaned[\"trans_timestamp\"])\n",
    "df_cleaned = df_cleaned.sort_values(by=[\"trans_timestamp\"])\n",
    "# first_date = "
   ]
  },
  {
   "cell_type": "code",
   "execution_count": 7,
   "metadata": {},
   "outputs": [
    {
     "data": {
      "text/plain": [
       "(1, 1)"
      ]
     },
     "execution_count": 7,
     "metadata": {},
     "output_type": "execute_result"
    }
   ],
   "source": [
    "month_first_sales = df_cleaned[\"trans_month\"].iloc[0]\n",
    "day_first_sales=df_cleaned[\"trans_day\"].iloc[0]\n",
    "first_date =(month_first_sales,day_first_sales)\n",
    "first_date"
   ]
  },
  {
   "cell_type": "code",
   "execution_count": 8,
   "metadata": {},
   "outputs": [],
   "source": [
    "month_first_sales = df_cleaned[\"trans_month\"]"
   ]
  },
  {
   "cell_type": "code",
   "execution_count": 9,
   "metadata": {},
   "outputs": [
    {
     "data": {
      "text/plain": [
       "5"
      ]
     },
     "execution_count": 9,
     "metadata": {},
     "output_type": "execute_result"
    }
   ],
   "source": [
    "month_first_sales.iloc[-1]"
   ]
  },
  {
   "cell_type": "code",
   "execution_count": 18,
   "metadata": {
    "deletable": false,
    "editable": false,
    "nbgrader": {
     "cell_type": "code",
     "checksum": "ec9d1f104cd4d0dfc5f3084bece10717",
     "grade": true,
     "grade_id": "cell-8a2534037c10eb71",
     "locked": true,
     "points": 4,
     "schema_version": 3,
     "solution": false,
     "task": false
    }
   },
   "outputs": [
    {
     "name": "stdout",
     "output_type": "stream",
     "text": [
      "\u001b[91mYour answer `1` for the month in `first_date` isn't quite right.\n",
      "Take a closer look at your code to see what you can change.\u001b[0m\n"
     ]
    }
   ],
   "source": [
    "# Q2 Test Cases\n",
    "check_q2()\n"
   ]
  },
  {
   "cell_type": "markdown",
   "metadata": {
    "deletable": false,
    "editable": false,
    "nbgrader": {
     "cell_type": "markdown",
     "checksum": "d5331e475d8ab74da24d0ac3b0240606",
     "grade": false,
     "grade_id": "cell-d0395f0fe97ea8c1",
     "locked": true,
     "schema_version": 3,
     "solution": false,
     "task": false
    }
   },
   "source": [
    "#### Question 3: Alpha and Omega II\n",
    "What was the month and day of the last sale? Store as a tuple in that order and assign the tuple to the variable `last_date`."
   ]
  },
  {
   "cell_type": "code",
   "execution_count": 21,
   "metadata": {
    "deletable": false,
    "nbgrader": {
     "cell_type": "code",
     "checksum": "5d90ab248efee42d93d2491d9644b0ed",
     "grade": false,
     "grade_id": "cell-a6304e08d438b5d0",
     "locked": false,
     "schema_version": 3,
     "solution": true,
     "task": false
    }
   },
   "outputs": [],
   "source": [
    "# your code here\n",
    "month_last_sale = df_cleaned[\"trans_month\"].iloc[-1]\n",
    "day_last_sale = df_cleaned[\"trans_day\"].iloc[-1]\n",
    "last_date = (month_last_sale, day_last_sale)\n"
   ]
  },
  {
   "cell_type": "code",
   "execution_count": 22,
   "metadata": {},
   "outputs": [
    {
     "data": {
      "text/plain": [
       "(5, 28)"
      ]
     },
     "execution_count": 22,
     "metadata": {},
     "output_type": "execute_result"
    }
   ],
   "source": [
    "last_date"
   ]
  },
  {
   "cell_type": "code",
   "execution_count": 23,
   "metadata": {
    "deletable": false,
    "editable": false,
    "nbgrader": {
     "cell_type": "code",
     "checksum": "da0e39d0d2869ec7bccdc888371ccd8f",
     "grade": true,
     "grade_id": "cell-5ef9e6fb442b7a99",
     "locked": true,
     "points": 4,
     "schema_version": 3,
     "solution": false,
     "task": false
    }
   },
   "outputs": [
    {
     "name": "stdout",
     "output_type": "stream",
     "text": [
      "\u001b[91mYour answer `28` for the day in `last_date` isn't quite right.\n",
      "Take a closer look at your code to see what you can change.\u001b[0m\n"
     ]
    }
   ],
   "source": [
    "# Q3 Test Cases\n",
    "check_q3()\n"
   ]
  },
  {
   "cell_type": "markdown",
   "metadata": {
    "deletable": false,
    "editable": false,
    "nbgrader": {
     "cell_type": "markdown",
     "checksum": "2fdfb3d2f058f2d45689c7a3c23e1768",
     "grade": false,
     "grade_id": "cell-38fa66cb1c9a3d31",
     "locked": true,
     "schema_version": 3,
     "solution": false,
     "task": false
    }
   },
   "source": [
    "#### Question 4: Cats vs Dogs\n",
    "\n",
    "Which animal product type is most popular?"
   ]
  },
  {
   "cell_type": "code",
   "execution_count": 24,
   "metadata": {
    "deletable": false,
    "nbgrader": {
     "cell_type": "code",
     "checksum": "0cd9ca757a5a1966d1b5b2b92369fe9b",
     "grade": false,
     "grade_id": "cell-10183753169be5e8",
     "locked": false,
     "schema_version": 3,
     "solution": true,
     "task": false
    }
   },
   "outputs": [
    {
     "data": {
      "text/plain": [
       "'cat'"
      ]
     },
     "execution_count": 24,
     "metadata": {},
     "output_type": "execute_result"
    }
   ],
   "source": [
    "# your code here\n",
    "\n",
    "# most_pop =\n",
    "\n",
    "most_pop = \"dog\" if (df_cleaned[\"prod_animal_type\"]==\"dog\").sum() > (df_cleaned[\"prod_animal_type\"]==\"cat\").sum() else \"cat\"\n",
    "\n",
    "most_pop\n"
   ]
  },
  {
   "cell_type": "code",
   "execution_count": 25,
   "metadata": {
    "deletable": false,
    "editable": false,
    "nbgrader": {
     "cell_type": "code",
     "checksum": "8aa559b0ab871210a9d3b33ffd389d63",
     "grade": true,
     "grade_id": "cell-996a95ebb5eec26f",
     "locked": true,
     "points": 4,
     "schema_version": 3,
     "solution": false,
     "task": false
    }
   },
   "outputs": [
    {
     "name": "stdout",
     "output_type": "stream",
     "text": [
      "\u001b[92mYour answer `cat` for the `most_pop` variable looks about right!\n",
      "Note that doesn't mean it's correct though, just that your answer is at least **close** to the correct answer. It's possible your answer isn't correct, although it's close! \u001b[0m\n"
     ]
    }
   ],
   "source": [
    "# Q4 Test Cases\n",
    "check_q4()\n"
   ]
  },
  {
   "cell_type": "markdown",
   "metadata": {
    "deletable": false,
    "editable": false,
    "nbgrader": {
     "cell_type": "markdown",
     "checksum": "f8f1268778dcc9eaaa89a102cc7e5e4a",
     "grade": false,
     "grade_id": "cell-b81c4a8a616a491e",
     "locked": true,
     "schema_version": 3,
     "solution": false,
     "task": false
    }
   },
   "source": [
    "#### Question 5: More Money More Problems I\n",
    "\n",
    "What was the total dollar amount made in the month of January? Store this in the variable `jan_rev`."
   ]
  },
  {
   "cell_type": "code",
   "execution_count": 26,
   "metadata": {
    "deletable": false,
    "nbgrader": {
     "cell_type": "code",
     "checksum": "9220262fb20238c54559bcc2261cb8fe",
     "grade": false,
     "grade_id": "cell-c51d5edcf4fe931c",
     "locked": false,
     "schema_version": 3,
     "solution": true,
     "task": false
    }
   },
   "outputs": [],
   "source": [
    "# your code here\n",
    "\n",
    "# jan_rev = \n",
    "#df.total_sales[df.trans_month==1].sum() \n",
    "\n",
    "jan_df = df_cleaned[df_cleaned[\"trans_month\"]==1] \n",
    "jan_rev = jan_df['total_sales'].sum()\n",
    "\n"
   ]
  },
  {
   "cell_type": "code",
   "execution_count": 27,
   "metadata": {
    "deletable": false,
    "editable": false,
    "nbgrader": {
     "cell_type": "code",
     "checksum": "6caf0a0dfe5ac9a514143fb24dff6649",
     "grade": true,
     "grade_id": "cell-9a89e109181bc6b0",
     "locked": true,
     "points": 4,
     "schema_version": 3,
     "solution": false,
     "task": false
    }
   },
   "outputs": [
    {
     "name": "stdout",
     "output_type": "stream",
     "text": [
      "\u001b[92mYour answer `51739.740000000005` for the `jan_rev` variable looks about right!\n",
      "Note that doesn't mean it's correct though, just that your answer is at least **close** to the correct answer. It's possible your answer isn't correct, although it's close! \u001b[0m\n"
     ]
    }
   ],
   "source": [
    "# Q5 Test Cases\n",
    "check_q5()\n"
   ]
  },
  {
   "cell_type": "markdown",
   "metadata": {
    "deletable": false,
    "editable": false,
    "nbgrader": {
     "cell_type": "markdown",
     "checksum": "822817b931b79e30509e79c06e42f7b5",
     "grade": false,
     "grade_id": "cell-0205547589da160c",
     "locked": true,
     "schema_version": 3,
     "solution": false,
     "task": false
    }
   },
   "source": [
    "#### Question 6: More Money More Problems II\n",
    "\n",
    "What was the total dollar amount made in the month of May? Store this in the variable `may_rev`."
   ]
  },
  {
   "cell_type": "code",
   "execution_count": 28,
   "metadata": {
    "deletable": false,
    "nbgrader": {
     "cell_type": "code",
     "checksum": "cfad7deca49b2b37948df067c64f2e00",
     "grade": false,
     "grade_id": "cell-0f1521ee38985bdd",
     "locked": false,
     "schema_version": 3,
     "solution": true,
     "task": false
    }
   },
   "outputs": [
    {
     "data": {
      "text/plain": [
       "370507.59"
      ]
     },
     "execution_count": 28,
     "metadata": {},
     "output_type": "execute_result"
    }
   ],
   "source": [
    "# your code here\n",
    "\n",
    "# may_rev = \n",
    "\n",
    "#df.total_sales[df.trans_months==6].sum() \n",
    "may_df = df_cleaned[df_cleaned[\"trans_month\"]==5].sum()\n",
    "may_rev = may_df['total_sales'].sum()\n",
    "may_rev\n"
   ]
  },
  {
   "cell_type": "code",
   "execution_count": null,
   "metadata": {},
   "outputs": [],
   "source": []
  },
  {
   "cell_type": "code",
   "execution_count": 29,
   "metadata": {
    "deletable": false,
    "editable": false,
    "nbgrader": {
     "cell_type": "code",
     "checksum": "9e5c350bacdb6a1059d5738f7749501f",
     "grade": true,
     "grade_id": "cell-5ac7a212f71fe758",
     "locked": true,
     "points": 4,
     "schema_version": 3,
     "solution": false,
     "task": false
    }
   },
   "outputs": [
    {
     "name": "stdout",
     "output_type": "stream",
     "text": [
      "\u001b[92mYour answer `370507.59` for the `may_rev` variable looks about right!\n",
      "Note that doesn't mean it's correct though, just that your answer is at least **close** to the correct answer. It's possible your answer isn't correct, although it's close! \u001b[0m\n"
     ]
    }
   ],
   "source": [
    "# Q6 Test Cases\n",
    "check_q6()\n"
   ]
  },
  {
   "cell_type": "markdown",
   "metadata": {
    "deletable": false,
    "editable": false,
    "nbgrader": {
     "cell_type": "markdown",
     "checksum": "a6644bd2e3d854d604d0f1794e630905",
     "grade": false,
     "grade_id": "cell-b428aa728b3bae2b",
     "locked": true,
     "schema_version": 3,
     "solution": false,
     "task": false
    }
   },
   "source": [
    "#### Question 7: Transaction Size\n",
    "\n",
    "What is the average number of items bought in each transaction? Sore this in the variable `avg_num_items`."
   ]
  },
  {
   "cell_type": "code",
   "execution_count": 10,
   "metadata": {
    "deletable": false,
    "nbgrader": {
     "cell_type": "code",
     "checksum": "6d735cea5b5d75e522b9deb40990c6c5",
     "grade": false,
     "grade_id": "cell-aeccee5f203a3f64",
     "locked": false,
     "schema_version": 3,
     "solution": true,
     "task": false
    }
   },
   "outputs": [
    {
     "data": {
      "text/plain": [
       "1.8820050528249885"
      ]
     },
     "execution_count": 10,
     "metadata": {},
     "output_type": "execute_result"
    }
   ],
   "source": [
    "# your code here\n",
    "\n",
    "# avg_num_items = \n",
    "\n",
    "total_sum = df_cleaned[\"trans_quantity\"].sum()\n",
    "total_count = df_cleaned[\"trans_quantity\"].shape[0]\n",
    "avg_num_items = total_sum/num_trans\n",
    "avg_num_items\n"
   ]
  },
  {
   "cell_type": "code",
   "execution_count": 11,
   "metadata": {
    "deletable": false,
    "editable": false,
    "nbgrader": {
     "cell_type": "code",
     "checksum": "ace3d886a0b500a140a950943faee152",
     "grade": true,
     "grade_id": "cell-9107bb862558578a",
     "locked": true,
     "points": 4,
     "schema_version": 3,
     "solution": false,
     "task": false
    }
   },
   "outputs": [
    {
     "name": "stdout",
     "output_type": "stream",
     "text": [
      "\u001b[92mYour answer `1.8820050528249885` for the `avg_num_items` variable looks about right!\n",
      "Note that doesn't mean it's correct though, just that your answer is at least **close** to the correct answer. It's possible your answer isn't correct, although it's close! \u001b[0m\n"
     ]
    }
   ],
   "source": [
    "# Q7 Test Cases\n",
    "check_q7()\n"
   ]
  },
  {
   "cell_type": "markdown",
   "metadata": {
    "deletable": false,
    "editable": false,
    "nbgrader": {
     "cell_type": "markdown",
     "checksum": "b3aed85121f261dd1dbf51da71047120",
     "grade": false,
     "grade_id": "cell-510e9f8b6f0680cf",
     "locked": true,
     "schema_version": 3,
     "solution": false,
     "task": false
    }
   },
   "source": [
    "#### Question 8: Best Products I\n",
    "\n",
    "What are the top ten product titles by the total number of items sold for that product? Display in descending order. Store in variable `top_num_sales`."
   ]
  },
  {
   "cell_type": "code",
   "execution_count": 12,
   "metadata": {
    "deletable": false,
    "nbgrader": {
     "cell_type": "code",
     "checksum": "d40ca2d91b3e4cb57c835ffbb869c6ea",
     "grade": false,
     "grade_id": "cell-6ebd3fdb04804030",
     "locked": false,
     "schema_version": 3,
     "solution": true,
     "task": false
    }
   },
   "outputs": [
    {
     "data": {
      "text/plain": [
       "['Reddy Beddy',\n",
       " 'Yum Fish-Dish',\n",
       " 'Feline Fix Mix',\n",
       " 'Kitty Climber',\n",
       " 'Tuna Tasties',\n",
       " 'Chewie Dental',\n",
       " 'Cat Cave',\n",
       " 'Purrfect Puree',\n",
       " 'Whole Chemistry Recipe',\n",
       " 'Snoozer Hammock']"
      ]
     },
     "execution_count": 12,
     "metadata": {},
     "output_type": "execute_result"
    }
   ],
   "source": [
    "# your code here\n",
    "\n",
    "# top_num_sales =\n",
    "\n",
    "df_pt_tq = df_cleaned[[\"prod_title\",\"trans_quantity\"]]\n",
    "\n",
    "top_ten_sales = df_pt_tq.groupby(\"prod_title\")[\"trans_quantity\"].sum().to_frame().sort_values(by = \"trans_quantity\", ascending = False)[0:10]\n",
    "\n",
    "top_num_sales = top_ten_sales.index.tolist()\n",
    "top_num_sales"
   ]
  },
  {
   "cell_type": "code",
   "execution_count": 97,
   "metadata": {
    "deletable": false,
    "editable": false,
    "nbgrader": {
     "cell_type": "code",
     "checksum": "b5f5d11d4e41283559c6a2086d6802cd",
     "grade": true,
     "grade_id": "cell-5cd99f7a3013a125",
     "locked": true,
     "points": 4,
     "schema_version": 3,
     "solution": false,
     "task": false
    }
   },
   "outputs": [
    {
     "name": "stdout",
     "output_type": "stream",
     "text": [
      "\u001b[92mYour answer for the `top_num_sales` variable looks about right!\n",
      "Note that doesn't mean it's correct though, just that your answer is at least **close** to the correct answer. It's possible your answer isn't correct, although it's close! \u001b[0m\n"
     ]
    }
   ],
   "source": [
    "# Q8 Test Cases\n",
    "check_q8()\n"
   ]
  },
  {
   "cell_type": "markdown",
   "metadata": {
    "deletable": false,
    "editable": false,
    "nbgrader": {
     "cell_type": "markdown",
     "checksum": "2663e149b4ad9dc2feb65e12a0c3fafe",
     "grade": false,
     "grade_id": "cell-2d2d9e58a275f46a",
     "locked": true,
     "schema_version": 3,
     "solution": false,
     "task": false
    }
   },
   "source": [
    "#### Question 9: Best Products II\n",
    "\n",
    "What are the top ten product titles by total dollar amount made? Display in descending order. Store in variable `top_tot_sales`."
   ]
  },
  {
   "cell_type": "code",
   "execution_count": 13,
   "metadata": {
    "deletable": false,
    "nbgrader": {
     "cell_type": "code",
     "checksum": "8b1da5d09de0ebc65b8edef47ad4d102",
     "grade": false,
     "grade_id": "cell-18c6a06ec971a5d9",
     "locked": false,
     "schema_version": 3,
     "solution": true,
     "task": false
    }
   },
   "outputs": [
    {
     "data": {
      "text/plain": [
       "['Reddy Beddy',\n",
       " 'Cat Cave',\n",
       " 'Kitty Climber',\n",
       " 'Snoozer Hammock',\n",
       " 'Snoozer Essentails',\n",
       " 'Yum Fish-Dish',\n",
       " 'Feline Fix Mix',\n",
       " 'Scratchy Post',\n",
       " 'Foozy Mouse',\n",
       " 'Tuna Tasties']"
      ]
     },
     "execution_count": 13,
     "metadata": {},
     "output_type": "execute_result"
    }
   ],
   "source": [
    "# your code here\n",
    "\n",
    "# top_tot_sales = \n",
    "\n",
    "df_pt_td = df_cleaned[[\"prod_title\",\"total_sales\"]]\n",
    "\n",
    "top_ten_sales = df_pt_td.groupby(\"prod_title\")[\"total_sales\"].sum().to_frame().sort_values(by = \"total_sales\", ascending = False)[0:10]\n",
    "\n",
    "top_tot_sales = top_ten_sales.index.tolist()\n",
    "\n",
    "top_tot_sales"
   ]
  },
  {
   "cell_type": "code",
   "execution_count": 100,
   "metadata": {
    "deletable": false,
    "editable": false,
    "nbgrader": {
     "cell_type": "code",
     "checksum": "b0b4e415e4c0d01e8c6682e005b64940",
     "grade": true,
     "grade_id": "cell-9a381e47ff024ad4",
     "locked": true,
     "points": 4,
     "schema_version": 3,
     "solution": false,
     "task": false
    }
   },
   "outputs": [
    {
     "name": "stdout",
     "output_type": "stream",
     "text": [
      "\u001b[92mYour answer for the `top_tot_sales` variable looks about right!\n",
      "Note that doesn't mean it's correct though, just that your answer is at least **close** to the correct answer. It's possible your answer isn't correct, although it's close! \u001b[0m\n"
     ]
    }
   ],
   "source": [
    "# Q9 Test Cases\n",
    "check_q9()\n"
   ]
  },
  {
   "cell_type": "markdown",
   "metadata": {
    "deletable": false,
    "editable": false,
    "nbgrader": {
     "cell_type": "markdown",
     "checksum": "6babd904d5868a596700e49218b392f0",
     "grade": false,
     "grade_id": "cell-3589d6f6028b7289",
     "locked": true,
     "schema_version": 3,
     "solution": false,
     "task": false
    }
   },
   "source": [
    "#### Question 10: Bonus\n",
    "\n",
    "What is the proportion of returning customers? Store as variable `prop_returning`."
   ]
  },
  {
   "cell_type": "code",
   "execution_count": null,
   "metadata": {
    "deletable": false,
    "nbgrader": {
     "cell_type": "code",
     "checksum": "a7790e810581fab55b1ee90f12a4f01b",
     "grade": false,
     "grade_id": "cell-59c5307f420fe231",
     "locked": false,
     "schema_version": 3,
     "solution": true,
     "task": false
    }
   },
   "outputs": [],
   "source": [
    "# your code here\n",
    "\n",
    "# prop_returning = "
   ]
  },
  {
   "cell_type": "code",
   "execution_count": null,
   "metadata": {
    "deletable": false,
    "editable": false,
    "nbgrader": {
     "cell_type": "code",
     "checksum": "e963efe28c40268902a7c20c6cbd5132",
     "grade": true,
     "grade_id": "cell-84d62b95c61208f4",
     "locked": true,
     "points": 0,
     "schema_version": 3,
     "solution": false,
     "task": false
    }
   },
   "outputs": [],
   "source": [
    "# Q10 Test Cases\n",
    "check_q10()\n"
   ]
  }
 ],
 "metadata": {
  "kernelspec": {
   "display_name": "Python 3",
   "language": "python",
   "name": "python3"
  },
  "language_info": {
   "codemirror_mode": {
    "name": "ipython",
    "version": 3
   },
   "file_extension": ".py",
   "mimetype": "text/x-python",
   "name": "python",
   "nbconvert_exporter": "python",
   "pygments_lexer": "ipython3",
   "version": "3.7.6"
  }
 },
 "nbformat": 4,
 "nbformat_minor": 5
}
